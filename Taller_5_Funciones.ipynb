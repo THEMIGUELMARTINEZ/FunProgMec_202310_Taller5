{
  "cells": [
    {
      "cell_type": "markdown",
      "id": "66beb5a1",
      "metadata": {
        "id": "66beb5a1"
      },
      "source": [
        "# Fundamentos de Programación para Ingeniería Mecánica\n",
        "## UPB Montería - 202310\n",
        "### Taller 5: Funciones y Estructuras de Datos\n",
        "- Docente: Miguel Ortiz (miguel.ortizp@upb.edu.co)"
      ]
    },
    {
      "cell_type": "markdown",
      "id": "b4381f55",
      "metadata": {
        "id": "b4381f55"
      },
      "source": [
        "Datos del Estudiante:\n",
        "- Nombre: Miguel Martinez\n",
        "- ID: 000524871\n",
        "- email: miguels.martinez@upb.edu.co"
      ]
    },
    {
      "cell_type": "markdown",
      "id": "433f35a0",
      "metadata": {
        "id": "433f35a0"
      },
      "source": [
        "> Resuelva los siguientes ejercicios utilizando **Funciones, Listas y Diccionarios**."
      ]
    },
    {
      "cell_type": "markdown",
      "id": "aead929b",
      "metadata": {
        "id": "aead929b"
      },
      "source": [
        "### Problema 1: Discurso Político (150xp)\n",
        "\n",
        "Diseñe el algoritmo y escriba un código en lenguaje de programación Python para generar discursos políticos aleatorios, teniendo en cuenta la siguiente imagen:\n",
        "\n",
        "![componentes de un discurso](https://github.com/Mikheltodd/FunProgMec_202310_Taller5/blob/main/discurso.png?raw=1)\n",
        "\n",
        "Para ello, debe solicitar al usuario el nombre del candidato, un presupuesto general, y tres (3) porcentajes que representen los dineros que destinará a diferentes sectores seleccionados de forma aleatoria (lista de beneficio populista).\n",
        "\n",
        "Crea una función sin parámetros que retorne un string con el mensaje político. Dentro de la función deben aparecer los inputs para solicitar información al usuario. Guarda el mensaje creado por la función en una variable llamada `mensaje_politico` e imprime su valor en consola. \n",
        "\n",
        "**Ejemplo:**\n",
        "\n",
        "```\n",
        ">>> Entradas:\n",
        "Ingrese nombre del candidato: Chocolove McDonell\n",
        "Ingrese presupuesto (en millones de pesos): 1250\n",
        "Ingrese Porcentaje 1: 25\n",
        "Ingrese Porcentaje 2: 30\n",
        "Ingrese Porcentaje 3: 45\n",
        ">>> Salidas:\n",
        "Estimados copartidarios. \n",
        "Mi nombre es Chocolove McDonell y hoy vengo a decirles que, con su ayuda combatiré el desplazamiento y promoveré la educación de cada colombiano. Y es por eso que hoy he venido a proponerles invertir $1250.0 millones de pesos de la siguiente manera: \n",
        " - $312.5 millones de pesos en el empleo \n",
        " - $375.0 millones de pesos en la educación \n",
        " - $562.5 millones de pesos en la salud \n",
        "```\n",
        "\n",
        "**Nota:** para seleccionar un elemento aleatorio de una lista puede utilizar la función `choice()` de la librería random:\n",
        "\n",
        "```python\n",
        "import random\n",
        "random.choice([1, 2, 3])\n",
        "```\n",
        "\n",
        "**Recomendación:** cree las variables sin acento (tildes) y en minúsculas. "
      ]
    },
    {
      "cell_type": "code",
      "execution_count": 24,
      "id": "a78382aa",
      "metadata": {
        "id": "a78382aa",
        "outputId": "64d7e0a1-98d0-4070-c557-42c96d9e7f72",
        "colab": {
          "base_uri": "https://localhost:8080/",
          "height": 426
        }
      },
      "outputs": [
        {
          "name": "stdout",
          "output_type": "stream",
          "text": [
            "Ingrese nombre del candidato: miguel\n",
            "Ingrese presupuesto (en millones de pesos): 100\n",
            "Ingrese Porcentaje 1: 50\n",
            "Ingrese Porcentaje 2: 25\n",
            "Ingrese Porcentaje 3: 25\n"
          ]
        },
        {
          "output_type": "error",
          "ename": "IndexError",
          "evalue": "ignored",
          "traceback": [
            "\u001b[0;31m---------------------------------------------------------------------------\u001b[0m",
            "\u001b[0;31mIndexError\u001b[0m                                Traceback (most recent call last)",
            "\u001b[0;32m<ipython-input-24-64414ec03559>\u001b[0m in \u001b[0;36m<cell line: 21>\u001b[0;34m()\u001b[0m\n\u001b[1;32m     19\u001b[0m     \u001b[0;32mreturn\u001b[0m \u001b[0mmensaje_politico\u001b[0m\u001b[0;34m\u001b[0m\u001b[0;34m\u001b[0m\u001b[0m\n\u001b[1;32m     20\u001b[0m \u001b[0;34m\u001b[0m\u001b[0m\n\u001b[0;32m---> 21\u001b[0;31m \u001b[0mmensaje_politico\u001b[0m \u001b[0;34m=\u001b[0m \u001b[0mgenerar_discurso_politico\u001b[0m\u001b[0;34m(\u001b[0m\u001b[0;34m)\u001b[0m\u001b[0;34m\u001b[0m\u001b[0;34m\u001b[0m\u001b[0m\n\u001b[0m\u001b[1;32m     22\u001b[0m \u001b[0mprint\u001b[0m\u001b[0;34m(\u001b[0m\u001b[0mMensaje_politico\u001b[0m\u001b[0;34m)\u001b[0m\u001b[0;34m\u001b[0m\u001b[0;34m\u001b[0m\u001b[0m\n",
            "\u001b[0;32m<ipython-input-24-64414ec03559>\u001b[0m in \u001b[0;36mgenerar_discurso_politico\u001b[0;34m()\u001b[0m\n\u001b[1;32m     14\u001b[0m \u001b[0;34m\u001b[0m\u001b[0m\n\u001b[1;32m     15\u001b[0m     \u001b[0;32mfor\u001b[0m \u001b[0mi\u001b[0m \u001b[0;32min\u001b[0m \u001b[0mrange\u001b[0m\u001b[0;34m(\u001b[0m\u001b[0mlen\u001b[0m\u001b[0;34m(\u001b[0m\u001b[0msectores\u001b[0m\u001b[0;34m)\u001b[0m\u001b[0;34m)\u001b[0m\u001b[0;34m:\u001b[0m\u001b[0;34m\u001b[0m\u001b[0;34m\u001b[0m\u001b[0m\n\u001b[0;32m---> 16\u001b[0;31m         \u001b[0mmonto\u001b[0m \u001b[0;34m=\u001b[0m \u001b[0mpresupuesto\u001b[0m \u001b[0;34m*\u001b[0m \u001b[0;34m(\u001b[0m\u001b[0mporcentajes\u001b[0m\u001b[0;34m[\u001b[0m\u001b[0mi\u001b[0m\u001b[0;34m]\u001b[0m \u001b[0;34m/\u001b[0m \u001b[0;36m100\u001b[0m\u001b[0;34m)\u001b[0m\u001b[0;34m\u001b[0m\u001b[0;34m\u001b[0m\u001b[0m\n\u001b[0m\u001b[1;32m     17\u001b[0m         \u001b[0mMensaje_politico\u001b[0m \u001b[0;34m+=\u001b[0m \u001b[0;34mf\" - ${monto} millones de pesos en {sectores[i]}\\n\"\u001b[0m\u001b[0;34m\u001b[0m\u001b[0;34m\u001b[0m\u001b[0m\n\u001b[1;32m     18\u001b[0m \u001b[0;34m\u001b[0m\u001b[0m\n",
            "\u001b[0;31mIndexError\u001b[0m: list index out of range"
          ]
        }
      ],
      "source": [
        "import random\n",
        "\n",
        "def generar_discurso_politico():\n",
        "    nombre_candidato = input(\"Ingrese nombre del candidato: \")\n",
        "    presupuesto = float(input(\"Ingrese presupuesto (en millones de pesos): \"))\n",
        "    porcentaje1 = float(input(\"Ingrese Porcentaje 1: \"))\n",
        "    porcentaje2 = float(input(\"Ingrese Porcentaje 2: \"))\n",
        "    porcentaje3 = float(input(\"Ingrese Porcentaje 3: \"))\n",
        "\n",
        "    sectores = [\"la paz\", \"la empleo\", \"la igualdad\", \"la educacion\", \"la salud\", \"la seguridad\"]\n",
        "    porcentajes = [porcentaje1, porcentaje2, porcentaje3]\n",
        "\n",
        "    Mensaje_politico = f\"Honorables amigos.\\nMi nombre es {nombre_candidato} y hoy vengo a decirles que, con su apoyo luchare contra la pobreza y velare por la igualdad de cada colombiano. Y es por eso que hoy he venido a proponerles invertir ${presupuesto} millones de pesos de la siguiente manera:\\n\"\n",
        "\n",
        "    for i in range(len(sectores)):\n",
        "        monto = presupuesto * (porcentajes[i] / 100)\n",
        "        Mensaje_politico += f\" - ${monto} millones de pesos en {sectores[i]}\\n\"\n",
        "\n",
        "    return mensaje_politico\n",
        "\n",
        "mensaje_politico = generar_discurso_politico()\n",
        "print(Mensaje_politico)\n"
      ]
    },
    {
      "cell_type": "code",
      "source": [
        "import random\n",
        "\n",
        "def generar_discurso_politico():\n",
        "  \n",
        "    nombre_candidato = input(\"Ingrese nombre del candidato: \")\n",
        "    presupuesto = float(input(\"Ingrese presupuesto (en millones de pesos): \"))\n",
        "    porcentaje1 = float(input(\"Ingrese Porcentaje 1: \"))\n",
        "    porcentaje2 = float(input(\"Ingrese Porcentaje 2: \"))\n",
        "    porcentaje3 = float(input(\"Ingrese Porcentaje 3: \"))\n",
        "\n",
        "   \n",
        "    monto1 = (presupuesto * porcentaje1) / 100\n",
        "    monto2 = (presupuesto * porcentaje2) / 100\n",
        "    monto3 = (presupuesto * porcentaje3) / 100\n",
        "\n",
        "    \n",
        "    mensaje = f\"Estimados copartidarios. \\nMi nombre es {nombre_candidato} y hoy vengo a decirles que, con su ayuda combatiré el desplazamiento y promoveré la educación de cada colombiano. Y es por eso que hoy he venido a proponerles invertir ${presupuesto:.1f} millones de pesos de la siguiente manera: \\n - ${monto1:.1f} millones de pesos en el empleo \\n - ${monto2:.1f} millones de pesos en la educación \\n - ${monto3:.1f} millones de pesos en la salud\"\n",
        "\n",
        " \n",
        "    return mensaje\n",
        "\n",
        "\n",
        "mensaje_politico = generar_discurso_politico()\n",
        "print(mensaje_politico)\n",
        "\n",
        "\n",
        "\n"
      ],
      "metadata": {
        "id": "vrUQYz2cYUcn",
        "outputId": "d95a6dd4-1c0e-4404-d547-f9fe569933e8",
        "colab": {
          "base_uri": "https://localhost:8080/"
        }
      },
      "id": "vrUQYz2cYUcn",
      "execution_count": 27,
      "outputs": [
        {
          "output_type": "stream",
          "name": "stdout",
          "text": [
            "Ingrese nombre del candidato: JOSE ANDRES\n",
            "Ingrese presupuesto (en millones de pesos): 1500\n",
            "Ingrese Porcentaje 1: 50\n",
            "Ingrese Porcentaje 2: 25\n",
            "Ingrese Porcentaje 3: 25\n",
            "Estimados copartidarios. \n",
            "Mi nombre es JOSE ANDRES y hoy vengo a decirles que, con su ayuda combatiré el desplazamiento y promoveré la educación de cada colombiano. Y es por eso que hoy he venido a proponerles invertir $1500.0 millones de pesos de la siguiente manera: \n",
            " - $750.0 millones de pesos en el empleo \n",
            " - $375.0 millones de pesos en la educación \n",
            " - $375.0 millones de pesos en la salud\n"
          ]
        }
      ]
    }
  ],
  "metadata": {
    "kernelspec": {
      "display_name": "Python 3 (ipykernel)",
      "language": "python",
      "name": "python3"
    },
    "language_info": {
      "codemirror_mode": {
        "name": "ipython",
        "version": 3
      },
      "file_extension": ".py",
      "mimetype": "text/x-python",
      "name": "python",
      "nbconvert_exporter": "python",
      "pygments_lexer": "ipython3",
      "version": "3.10.6"
    },
    "colab": {
      "provenance": []
    }
  },
  "nbformat": 4,
  "nbformat_minor": 5
}